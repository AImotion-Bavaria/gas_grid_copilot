{
 "cells": [
  {
   "cell_type": "markdown",
   "metadata": {},
   "source": [
    "Let's create sliders for the mass outflow and show the pressure differences, shall we? "
   ]
  },
  {
   "cell_type": "code",
   "execution_count": 16,
   "metadata": {},
   "outputs": [
    {
     "name": "stdout",
     "output_type": "stream",
     "text": [
      "The autoreload extension is already loaded. To reload it, use:\n",
      "  %reload_ext autoreload\n"
     ]
    }
   ],
   "source": [
    "%load_ext autoreload\n",
    "%autoreload 2\n",
    "\n",
    "\n",
    "import ipywidgets as widgets\n",
    "from ipywidgets import interact"
   ]
  },
  {
   "cell_type": "code",
   "execution_count": null,
   "metadata": {},
   "outputs": [],
   "source": [
    "import pandapipes as pp\n",
    "import pandas as pd\n",
    "import matplotlib.pyplot as plt\n",
    "\n",
    "from my_first_example import get_example_fork\n",
    "\n",
    "net = get_example_fork()\n",
    "\n",
    "def update_example_fork(net, external_grid1_pressure, external_grid2_pressure, sink_mass_flow):\n",
    "    # Update external grid pressures and sink mass flow\n",
    "    net.ext_grid.p_bar.at[0] = external_grid1_pressure\n",
    "    net.ext_grid.p_bar.at[1] = external_grid2_pressure\n",
    "    net.sink.mdot_kg_per_s.at[0] = sink_mass_flow\n",
    "\n",
    "    pp.pipeflow(net)\n",
    "\n",
    "    # Collect pressure and temperature data into a DataFrame\n",
    "    result_df = pd.DataFrame({'p_bar': net.res_junction.p_bar, 't_k': net.res_junction.t_k})\n",
    "\n",
    "    return net, result_df\n",
    "\n",
    "def plot_interactive():\n",
    "    # Interactive sliders\n",
    "    external_grid1_slider = widgets.FloatSlider(value=30.1, min=30.0, max=31.0, step=0.01, description='Ext Grid 1 Pressure')\n",
    "    external_grid2_slider = widgets.FloatSlider(value=30.1, min=30.0, max=31.0, step=0.01, description='Ext Grid 2 Pressure')\n",
    "    sink_mass_flow_slider = widgets.FloatSlider(value=0.1, min=0.0, max=1.0, step=0.01, description='Sink Mass Flow')\n",
    "\n",
    "    # Create interactive plot\n",
    "    @interact(external_grid1_pressure=external_grid1_slider,\n",
    "              external_grid2_pressure=external_grid2_slider,\n",
    "              sink_mass_flow=sink_mass_flow_slider)\n",
    "    def interactive_plot(external_grid1_pressure, external_grid2_pressure, sink_mass_flow):\n",
    "        net, result_df = update_example_fork(net, external_grid1_pressure, external_grid2_pressure, sink_mass_flow)\n",
    "\n",
    "        # Plot histogram of pressures\n",
    "        plt.figure(figsize=(8, 6))\n",
    "        plt.hist(result_df['p_bar'], bins=20, edgecolor='black')\n",
    "        plt.title('Pressure Distribution at Junctions')\n",
    "        plt.xlabel('Pressure (bar)')\n",
    "        plt.ylabel('Frequency')\n",
    "        plt.show()\n",
    "\n",
    "        return result_df\n",
    "\n",
    "# Call the interactive plot function\n",
    "result_df = plot_interactive()\n",
    "\n",
    "# Display the resulting DataFrame\n",
    "result_df.head()\n"
   ]
  },
  {
   "cell_type": "code",
   "execution_count": 4,
   "metadata": {},
   "outputs": [
    {
     "data": {
      "application/vnd.jupyter.widget-view+json": {
       "model_id": "fdf8f6579e534b60ab669c9b8a629efa",
       "version_major": 2,
       "version_minor": 0
      },
      "text/plain": [
       "interactive(children=(Dropdown(description='name', options=('Jim', 'Emma', 'Bond'), value='Jim'), Output()), _…"
      ]
     },
     "metadata": {},
     "output_type": "display_data"
    }
   ],
   "source": [
    "def say_my_name(name):\n",
    "    \"\"\"\n",
    "    Print the current widget value in short sentence\n",
    "    \"\"\"\n",
    "    print(f'My name is {name}')\n",
    "     \n",
    "widgets.interact(say_my_name, name=[\"Jim\", \"Emma\", \"Bond\"]);"
   ]
  },
  {
   "cell_type": "code",
   "execution_count": 13,
   "metadata": {},
   "outputs": [
    {
     "data": {
      "application/vnd.jupyter.widget-view+json": {
       "model_id": "cd655abd0e69425d854ae9f14c63d0f9",
       "version_major": 2,
       "version_minor": 0
      },
      "text/plain": [
       "interactive(children=(FloatSlider(value=5.0, description='x', max=10.0, step=0.05), Output()), _dom_classes=('…"
      ]
     },
     "metadata": {},
     "output_type": "display_data"
    },
    {
     "data": {
      "text/plain": [
       "<function __main__.say_something(x)>"
      ]
     },
     "execution_count": 13,
     "metadata": {},
     "output_type": "execute_result"
    }
   ],
   "source": [
    "from my_first_example import get_example_fork\n",
    "import pandapipes as pp\n",
    "import pandas as pd \n",
    "net = get_example_fork()\n",
    "\n",
    "def update_example_fork(net, external_grid1_pressure, external_grid2_pressure, sink_mass_flow):\n",
    "    # Update external grid pressures and sink mass flow\n",
    "    net.ext_grid.p_bar.at[0] = external_grid1_pressure\n",
    "    net.ext_grid.p_bar.at[1] = external_grid2_pressure\n",
    "    net.sink.mdot_kg_per_s.at[0] = sink_mass_flow\n",
    "\n",
    "    pp.pipeflow(net)\n",
    "\n",
    "    # Collect pressure and temperature data into a DataFrame\n",
    "    result_df = pd.DataFrame({'p_bar': net.res_junction.p_bar, 't_k': net.res_junction.t_k})\n",
    "\n",
    "    return net, result_df\n",
    "\n",
    "def say_something(x):\n",
    "    \"\"\"\n",
    "    Print the current widget value in short sentence\n",
    "    \"\"\"\n",
    "    _, result_df = update_example_fork(net, 30, 30, x)\n",
    "    print(f'Widget says: {result_df}')\n",
    " \n",
    "\n",
    "widgets.interact(say_something, x=(0.0, 10.0, .05))"
   ]
  },
  {
   "cell_type": "code",
   "execution_count": 7,
   "metadata": {},
   "outputs": [
    {
     "data": {
      "application/vnd.jupyter.widget-view+json": {
       "model_id": "a172ea6da9b14f0b953228032158aeb0",
       "version_major": 2,
       "version_minor": 0
      },
      "text/plain": [
       "interactive(children=(FloatSlider(value=0.5, description='x', max=1.0, step=0.05), Output()), _dom_classes=('w…"
      ]
     },
     "metadata": {},
     "output_type": "display_data"
    },
    {
     "data": {
      "text/plain": [
       "<function __main__.say_something(x)>"
      ]
     },
     "execution_count": 7,
     "metadata": {},
     "output_type": "execute_result"
    }
   ],
   "source": [
    "def say_something(x):\n",
    "    \"\"\"\n",
    "    Print the current widget value in short sentence\n",
    "    \"\"\"\n",
    "    print(f'Widget says: {x}')\n",
    " \n",
    "\n",
    "widgets.interact(say_something, x=(0.0, 1.0, .05))"
   ]
  },
  {
   "cell_type": "code",
   "execution_count": 30,
   "metadata": {},
   "outputs": [
    {
     "data": {
      "application/vnd.jupyter.widget-view+json": {
       "model_id": "4ab3ca378986416292d86fc68c8045ea",
       "version_major": 2,
       "version_minor": 0
      },
      "text/plain": [
       "interactive(children=(FloatSlider(value=2.5, description='x', max=5.0, step=0.01), Output()), _dom_classes=('w…"
      ]
     },
     "metadata": {},
     "output_type": "display_data"
    },
    {
     "data": {
      "text/plain": [
       "<function __main__.say_something(x)>"
      ]
     },
     "execution_count": 30,
     "metadata": {},
     "output_type": "execute_result"
    }
   ],
   "source": [
    "from simple_storage import get_example_line\n",
    "net = get_example_line()\n",
    "\n",
    "def update_example_line(net, storage_mass_flow):\n",
    "    # Update external grid pressures and sink mass flow\n",
    "    net.mass_storage.mdot_kg_per_s.at[0] = storage_mass_flow\n",
    "\n",
    "    pp.pipeflow(net)\n",
    "\n",
    "    # Collect pressure and temperature data into a DataFrame\n",
    "    result_df = pd.DataFrame({'p_bar': net.res_junction.p_bar, 't_k': net.res_junction.t_k})\n",
    "\n",
    "    return net, result_df\n",
    "\n",
    "def say_something(x):\n",
    "    \"\"\"\n",
    "    Print the current widget value in short sentence\n",
    "    \"\"\"\n",
    "    _, result_df = update_example_line(net, x)\n",
    "    print(net.res_junction.p_bar)\n",
    "    print(net.res_ext_grid)\n",
    "    print(net.res_pipe)\n",
    "    print(net.res_source)\n",
    "    print(net.res_mass_storage)\n",
    " \n",
    "\n",
    "widgets.interact(say_something, x=(0.0, 5.0, .01))"
   ]
  },
  {
   "cell_type": "code",
   "execution_count": 24,
   "metadata": {},
   "outputs": [
    {
     "data": {
      "text/html": [
       "<div>\n",
       "<style scoped>\n",
       "    .dataframe tbody tr th:only-of-type {\n",
       "        vertical-align: middle;\n",
       "    }\n",
       "\n",
       "    .dataframe tbody tr th {\n",
       "        vertical-align: top;\n",
       "    }\n",
       "\n",
       "    .dataframe thead th {\n",
       "        text-align: right;\n",
       "    }\n",
       "</style>\n",
       "<table border=\"1\" class=\"dataframe\">\n",
       "  <thead>\n",
       "    <tr style=\"text-align: right;\">\n",
       "      <th></th>\n",
       "      <th>mdot_kg_per_s</th>\n",
       "    </tr>\n",
       "  </thead>\n",
       "  <tbody>\n",
       "    <tr>\n",
       "      <th>0</th>\n",
       "      <td>4.05</td>\n",
       "    </tr>\n",
       "  </tbody>\n",
       "</table>\n",
       "</div>"
      ],
      "text/plain": [
       "   mdot_kg_per_s\n",
       "0           4.05"
      ]
     },
     "execution_count": 24,
     "metadata": {},
     "output_type": "execute_result"
    }
   ],
   "source": [
    "net.res_sink"
   ]
  },
  {
   "cell_type": "code",
   "execution_count": 25,
   "metadata": {},
   "outputs": [
    {
     "data": {
      "text/html": [
       "<div>\n",
       "<style scoped>\n",
       "    .dataframe tbody tr th:only-of-type {\n",
       "        vertical-align: middle;\n",
       "    }\n",
       "\n",
       "    .dataframe tbody tr th {\n",
       "        vertical-align: top;\n",
       "    }\n",
       "\n",
       "    .dataframe thead th {\n",
       "        text-align: right;\n",
       "    }\n",
       "</style>\n",
       "<table border=\"1\" class=\"dataframe\">\n",
       "  <thead>\n",
       "    <tr style=\"text-align: right;\">\n",
       "      <th></th>\n",
       "      <th>mdot_kg_per_s</th>\n",
       "    </tr>\n",
       "  </thead>\n",
       "  <tbody>\n",
       "    <tr>\n",
       "      <th>0</th>\n",
       "      <td>-4.0</td>\n",
       "    </tr>\n",
       "  </tbody>\n",
       "</table>\n",
       "</div>"
      ],
      "text/plain": [
       "   mdot_kg_per_s\n",
       "0           -4.0"
      ]
     },
     "execution_count": 25,
     "metadata": {},
     "output_type": "execute_result"
    }
   ],
   "source": [
    "net.res_ext_grid"
   ]
  },
  {
   "cell_type": "code",
   "execution_count": null,
   "metadata": {},
   "outputs": [],
   "source": [
    "from storage_controller import Stora"
   ]
  }
 ],
 "metadata": {
  "kernelspec": {
   "display_name": "energy",
   "language": "python",
   "name": "python3"
  },
  "language_info": {
   "codemirror_mode": {
    "name": "ipython",
    "version": 3
   },
   "file_extension": ".py",
   "mimetype": "text/x-python",
   "name": "python",
   "nbconvert_exporter": "python",
   "pygments_lexer": "ipython3",
   "version": "3.12.0"
  }
 },
 "nbformat": 4,
 "nbformat_minor": 2
}
