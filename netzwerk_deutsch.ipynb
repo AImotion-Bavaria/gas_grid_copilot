{
 "cells": [
  {
   "cell_type": "code",
   "execution_count": 1,
   "metadata": {},
   "outputs": [],
   "source": [
    "import pandapipes as pp \n",
    "net = pp.create_empty_network(fluid = \"lgas\")\n",
    "init_bar = 1.0\n",
    "norm_temp = 293.15\n",
    "\n",
    "junction1 = pp.create_junction(net, pn_bar=init_bar, tfluid_k=norm_temp, name=\"Connection to External Grid\")\n",
    "junction2 = pp.create_junction(net, pn_bar=init_bar, tfluid_k=norm_temp, name=\"Junction 2\")\n",
    "junction3 = pp.create_junction(net, pn_bar=init_bar, tfluid_k=norm_temp, name=\"Junction 3\")\n",
    "junction4 = pp.create_junction(net, pn_bar=init_bar, tfluid_k=norm_temp, name=\"Junction 4\")\n",
    "junction5 = pp.create_junction(net, pn_bar=init_bar, tfluid_k=norm_temp, name=\"Junction 5\")\n",
    "junction6 = pp.create_junction(net, pn_bar=init_bar, tfluid_k=norm_temp, name=\"Junction 6\")"
   ]
  },
  {
   "cell_type": "code",
   "execution_count": 2,
   "metadata": {},
   "outputs": [
    {
     "data": {
      "text/plain": [
       "0"
      ]
     },
     "execution_count": 2,
     "metadata": {},
     "output_type": "execute_result"
    }
   ],
   "source": [
    "junction1"
   ]
  },
  {
   "cell_type": "code",
   "execution_count": 8,
   "metadata": {},
   "outputs": [
    {
     "data": {
      "text/plain": [
       "name          Connection to External Grid\n",
       "pn_bar                                1.0\n",
       "tfluid_k                           293.15\n",
       "height_m                              0.0\n",
       "in_service                           True\n",
       "type                             junction\n",
       "Name: 0, dtype: object"
      ]
     },
     "execution_count": 8,
     "metadata": {},
     "output_type": "execute_result"
    }
   ],
   "source": [
    "net.junction.loc[junction1]"
   ]
  },
  {
   "cell_type": "code",
   "execution_count": null,
   "metadata": {},
   "outputs": [],
   "source": []
  }
 ],
 "metadata": {
  "kernelspec": {
   "display_name": "energy",
   "language": "python",
   "name": "python3"
  },
  "language_info": {
   "codemirror_mode": {
    "name": "ipython",
    "version": 3
   },
   "file_extension": ".py",
   "mimetype": "text/x-python",
   "name": "python",
   "nbconvert_exporter": "python",
   "pygments_lexer": "ipython3",
   "version": "3.12.0"
  }
 },
 "nbformat": 4,
 "nbformat_minor": 2
}
