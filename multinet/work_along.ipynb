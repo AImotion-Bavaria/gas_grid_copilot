{
 "cells": [
  {
   "cell_type": "markdown",
   "metadata": {},
   "source": [
    "# Modellierung multimodaler Energiesysteme in Pandapipes\n",
    "\n",
    "Zunächst beginnen wir mit der grundlegenden Modellierung eines Rohrnetzes (z.B. Wasserstoff für Gastransport, Wasser für Wärmetransport) in Pandapipes."
   ]
  },
  {
   "cell_type": "code",
   "execution_count": null,
   "metadata": {},
   "outputs": [],
   "source": [
    "import pandapipes as ppipes"
   ]
  },
  {
   "cell_type": "code",
   "execution_count": null,
   "metadata": {},
   "outputs": [],
   "source": [
    "net = ppipes.create_empty_network(name=\"net\")\n",
    "j1 = ppipes.create_junction(net, pn_bar=5.0, tfluid_k=283.15)\n",
    "j2 = ppipes.create_junction(net, pn_bar=5.0, tfluid_k=283.15)\n",
    "p1 = ppipes.create_pipe_from_parameters(net, from_junction=j1, to_junction=j2, length_km=10, diameter_m=0.3)\n",
    "\n",
    "# Randbedingungen:\n",
    "eg = ppipes.create_ext_grid(net, junction=j1, p_bar=5, t_k=283.15)\n",
    "sink = ppipes.create_sink(net, junction=j2, mdot_kg_per_s=0.05)\n",
    "# Fluid:\n",
    "ppipes.create_fluid_from_lib(net, \"hydrogen\", overwrite=True)  # H-Gas, L-Gas, H2, Wasser, ...\n",
    "# Berechnung:\n",
    "ppipes.pipeflow(net)\n",
    "# Ergebnisse:\n",
    "print(net.res_junction)\n",
    "\n",
    "import matplotlib.pyplot as plt\n",
    "fig = plt.figure(figsize=(6,4))\n",
    "ax = fig.add_subplot()\n",
    "ppipes.plotting.simple_plot(net, ax=ax)\n",
    "plt.show()"
   ]
  },
  {
   "cell_type": "markdown",
   "metadata": {},
   "source": [
    "## Datenstrukturen \n",
    "Wie die Namen \"pandapipes\" und \"pandapower\" andeuten, werden alle Komponenten des Energiesystems in pandas-Dataframes abgelegt. Sehen wir uns zum Beispiel die Rohre und Knoten an:"
   ]
  },
  {
   "cell_type": "code",
   "execution_count": null,
   "metadata": {},
   "outputs": [],
   "source": [
    "net.pipe"
   ]
  },
  {
   "cell_type": "code",
   "execution_count": null,
   "metadata": {},
   "outputs": [],
   "source": [
    "net.junction"
   ]
  },
  {
   "cell_type": "markdown",
   "metadata": {},
   "source": [
    "Wir können die Entwicklung des Druckabfalls z.B. als eine Funktion der Masseentnahme visualisieren."
   ]
  },
  {
   "cell_type": "code",
   "execution_count": null,
   "metadata": {},
   "outputs": [],
   "source": [
    "import matplotlib.pyplot as plt\n",
    "import numpy as np\n",
    "m_flows = np.linspace(0.05, 0.48, 100)\n",
    "pressures = []\n",
    "for m in m_flows:\n",
    "    # setze die Masseentnahme in das Netzmodell ein - einfaches Pandas-Dataframe Objekt\n",
    "    net.sink.at[sink, \"mdot_kg_per_s\"] = m \n",
    "\n",
    "    ppipes.pipeflow(net)\n",
    "    p_junction_0 = net.res_pipe.at[p1, \"p_to_bar\"]\n",
    "    pressures.append(p_junction_0)\n",
    "\n",
    "plt.plot(m_flows, pressures)\n",
    "plt.xlabel(\"Mass flow in kg/s\")\n",
    "plt.ylabel(\"Pressure in bar\")\n",
    "plt.title(\"Pressure obtained at Junction 1 (sink)\")\n",
    "plt.show()"
   ]
  },
  {
   "attachments": {
    "image.png": {
     "image/png": "[encoded data removed]"
    }
   },
   "cell_type": "markdown",
   "metadata": {},
   "source": [
    "# Multimodale Netze\n",
    "\n",
    "Pandapipes ist insbesondere dafür geeignet, multimodale Netze zu entwickeln, d.h. zum Beispiel Kopplungen zwischen Wärmenetz und Stromnetz (Power-to-Heat) oder Gasnetz und Stromnetz (Power-to-Gas, KWK). Die Fluidsystemmodellierung in Pandapipes umfasst dabei Gase und Flüssigkeiten, sowie Hydraulik und Thermodynamik.\n",
    "\n",
    "Wir wollen folgendes Netz modellieren:\n",
    "\n",
    "![image.png](attachment:image.png)\n",
    "\n",
    "Nach den Imports können hierfür vorbereitete Netze verwendet werden:"
   ]
  },
  {
   "cell_type": "code",
   "execution_count": null,
   "metadata": {},
   "outputs": [],
   "source": [
    "from pandapower import networks as e_nw # electrical networks\n",
    "import pandapipes as ppipes\n",
    "import pandapower as ppower\n",
    "from pandapipes import networks as g_nw # gas networks\n",
    "\n",
    "net_power = e_nw.example_simple()\n",
    "net_gas = g_nw.gas_meshed_square()"
   ]
  },
  {
   "cell_type": "code",
   "execution_count": null,
   "metadata": {},
   "outputs": [],
   "source": [
    "# some adjustments\n",
    "net_gas.junction.pn_bar = net_gas.ext_grid.p_bar = 30 # 30 bar for _all_ the junctions, I guess\n",
    "net_gas.pipe.diameter_m = 0.4\n",
    "\n",
    "# let's get a fluid\n",
    "ppipes.create_fluid_from_lib(net_gas, \"hydrogen\", overwrite=True) ## HHV value is needed for energy conversion"
   ]
  },
  {
   "cell_type": "markdown",
   "metadata": {},
   "source": [
    "Nun müssen die Kopplungspunkte definiert werden: \n",
    "\n",
    "Für die Power-to-Gas Anlage:\n",
    "* Eine Last im Stromnetz\n",
    "* Eine Einspeisung (source) im Gasnetz"
   ]
  },
  {
   "cell_type": "code",
   "execution_count": null,
   "metadata": {},
   "outputs": [],
   "source": [
    "p2g_id_el = ppower.create_load(net_power, bus=1, p_mw = 2, name=\"power to gas consumption\")\n",
    "p2g_id_gas = ppipes.create_source(net_gas, junction=2, mdot_kg_per_s=0, name=\"power to gas feed in\")"
   ]
  },
  {
   "cell_type": "markdown",
   "metadata": {},
   "source": [
    "Für die Gas-to-Power Anlage (z.B. Gasturbine bzw. GuD-Kraftwerk):\n",
    "* Eine Last im Gasnetz\n",
    "* Einen Generator im Stromnetz"
   ]
  },
  {
   "cell_type": "code",
   "execution_count": null,
   "metadata": {},
   "outputs": [],
   "source": [
    "g2p_id_gas = ppipes.create_sink(net_gas, junction=5, mdot_kg_per_s=0.1, name=\"gas to power consumption\")\n",
    "g2p_id_el = ppower.create_sgen(net_power, bus=4, p_mw=0, name = \"fuel cell feed in\")"
   ]
  },
  {
   "cell_type": "markdown",
   "metadata": {},
   "source": [
    "Nun kann der eigentliche Multi-Net Container eingesetzt werden:"
   ]
  },
  {
   "cell_type": "code",
   "execution_count": null,
   "metadata": {},
   "outputs": [],
   "source": [
    "# jetzt kommt der Multinet-Container zum Einsatz - für gekoppelte Netze\n",
    "from pandapipes.multinet.create_multinet import create_empty_multinet, add_net_to_multinet\n",
    "\n",
    "multinet = create_empty_multinet(\"multi-energy-grid\")\n",
    "add_net_to_multinet(multinet, net_power, \"power\")\n",
    "add_net_to_multinet(multinet, net_gas, \"gas\")"
   ]
  },
  {
   "cell_type": "markdown",
   "metadata": {},
   "source": [
    "Die eigentliche Konversion der Energieformen und die gekoppelte Ausführung des Lastfluss und der Strömungssimulation in Rohren findet in sogenannten Controllern statt. Diese nehmen den Fluss von einer Komponente, verwenden die Umrechnung und passen den Berechnungswert für das jeweils andere Netz an. (z.B. bei Power-to-Gas wird die eingesetzte Leistung in die resultierende Masseeinspeiung umgerechnet und im Gasnetz gesetzt.)"
   ]
  },
  {
   "cell_type": "code",
   "execution_count": null,
   "metadata": {},
   "outputs": [],
   "source": [
    "from pandapipes.multinet.control.controller.multinet_control import P2GControlMultiEnergy, G2PControlMultiEnergy\n",
    "from pandapipes.multinet.control.run_control_multinet import run_control\n",
    "\n",
    "p2g_ctrl = P2GControlMultiEnergy(multinet, p2g_id_el, p2g_id_gas, efficiency=0.7)\n",
    "g2p_ctrl = G2PControlMultiEnergy(multinet, g2p_id_el, g2p_id_gas, efficiency=0.65)"
   ]
  },
  {
   "cell_type": "markdown",
   "metadata": {},
   "source": [
    "Mit dem Befehl `run_control` werden schlussendlich die hydraulischen und elektrischen Simulationen (wiederum mit einem Newton-Raphson-Solver) ausgeführt."
   ]
  },
  {
   "cell_type": "code",
   "execution_count": null,
   "metadata": {},
   "outputs": [],
   "source": [
    "run_control(multinet, numba=False) # startet Lastfluss in pandapower und Rohrfluss in pandapipes\n",
    "# numba = False, damit Performance-Warnungen ignoriert werden\n",
    "print(f\"Gaseinspeisung durch die Power-to-Gas-Anlage: {net_gas.source.loc[p2g_id_gas, 'mdot_kg_per_s']}\")\n",
    "print(f\"Stromeinspeisung durch die Gasturbine (GuD-KW): {net_power.sgen.loc[g2p_id_el, 'p_mw']}\")"
   ]
  },
  {
   "cell_type": "markdown",
   "metadata": {},
   "source": [
    "## Visualisierung der Netzzustände in Abhängigkeit der Betriebsweisen der Kopplungspunkte\n",
    "In dem Beispielnetz sehen wir bei hoher Gaseinspeisung durch Power-to-Gas eine Rückführung ins Verteilnetz, da eine schwache Senke modelliert ist. Wenn die Gasturbine stark fährt, bemerkt man entsprechende Leistungsänderungen im Stromnetz - durch die gekoppelte Simulation des Gesamtnetzes sieht man Zustandsänderung an allen Rohren bzw. Leitungen.\n",
    "\n",
    "(Code zum Plotten erstmal verborgen)"
   ]
  },
  {
   "cell_type": "code",
   "execution_count": null,
   "metadata": {},
   "outputs": [],
   "source": [
    "%matplotlib widget\n",
    "def draw_net(net_power, net_gas, ax1, ax2):\n",
    "    ax1.clear()\n",
    "\n",
    "    net_power.res_line.loc[:, [\"p_from_mw\", \"q_from_mvar\", \"p_to_mw\", \"q_to_mvar\"]].plot.bar(ax=ax1, title=\"Power Grid Lines\")\n",
    "    ax1.set_xticks(net_power.res_line.index, net_power.line.loc[:, \"name\"])\n",
    "    ax1.set_ylim([-15, 15])\n",
    "\n",
    "    ax2.clear()\n",
    "    net_gas.res_pipe.loc[:, [\"v_mean_m_per_s\",  \"mdot_from_kg_per_s\"]].plot.bar(ax=ax2, title = \"Gas Grid Pipes\")\n",
    "    ax2.set_xticks(net_gas.res_pipe.index, net_gas.pipe.loc[:, \"name\"])\n",
    "    ax2.set_ylim([-0.2, 1])\n",
    "\n",
    "def draw_plot(net_power, net_gas):\n",
    "    fig, (ax1, ax2) = plt.subplots(1, 2, figsize=(14,7))\n",
    "\n",
    "    #  df.plot.bar(x='Region', rot=0, title='Population', figsize=(15,10), fontsize=12)\n",
    "    draw_net(net_power, net_gas, ax1, ax2)\n",
    "\n",
    "    plt.tight_layout()\n",
    "\n",
    "    from matplotlib.widgets import Button, Slider\n",
    "\n",
    "    # adjust the main plot to make room for the sliders\n",
    "    fig.subplots_adjust(bottom=0.35)\n",
    "\n",
    "    # Make a horizontal slider to control the frequency.\n",
    "    axmdot = fig.add_axes([0.25, 0.13, 0.65, 0.03])\n",
    "    mdot_slider = Slider(\n",
    "        ax=axmdot,\n",
    "        label='Gas-to-Power: mdot_kg_per_s',\n",
    "        valmin=0,\n",
    "        valmax=0.4,\n",
    "        valinit=0.1\n",
    "    )\n",
    "\n",
    "    # Make a horizontal slider to control the frequency.\n",
    "    # ttuple (left, bottom, width, height)\n",
    "    axpower = fig.add_axes([0.25, 0.08, 0.65, 0.03])\n",
    "    power_slider = Slider(\n",
    "        ax=axpower,\n",
    "        label='Power-to-Gas: MW',\n",
    "        valmin=0,\n",
    "        valmax=15.0,\n",
    "        valinit=2.0\n",
    "    )\n",
    "\n",
    "    # The function to be called anytime a slider's value changes\n",
    "    def update(val):\n",
    "        #line.set_ydata(f(t, amp_slider.val, freq_slider.val))\n",
    "        # recalc \n",
    "        net_power.load.at[p2g_id_el, \"p_mw\"] = power_slider.val\n",
    "        net_gas.sink.at[g2p_id_gas, \"mdot_kg_per_s\"] = mdot_slider.val \n",
    "        run_control(multinet)\n",
    "        draw_net(net_power, net_gas, ax1, ax2)\n",
    "\n",
    "    # register the update function with each slider\n",
    "    mdot_slider.on_changed(update)\n",
    "    power_slider.on_changed(update)\n",
    "\n",
    "    # Create a `matplotlib.widgets.Button` to reset the sliders to initial values.\n",
    "    resetax = fig.add_axes([0.8, 0.025, 0.1, 0.04])\n",
    "    button = Button(resetax, 'Reset', hovercolor='0.975')\n",
    "\n",
    "    def reset(event):\n",
    "        mdot_slider.reset()\n",
    "        \n",
    "    button.on_clicked(reset)\n",
    "    \n",
    "    return fig"
   ]
  },
  {
   "cell_type": "code",
   "execution_count": null,
   "metadata": {},
   "outputs": [],
   "source": [
    "draw_plot(net_power, net_gas)"
   ]
  },
  {
   "cell_type": "code",
   "execution_count": null,
   "metadata": {},
   "outputs": [],
   "source": []
  }
 ],
 "metadata": {
  "kernelspec": {
   "display_name": "energy",
   "language": "python",
   "name": "python3"
  },
  "language_info": {
   "codemirror_mode": {
    "name": "ipython",
    "version": 3
   },
   "file_extension": ".py",
   "mimetype": "text/x-python",
   "name": "python",
   "nbconvert_exporter": "python",
   "pygments_lexer": "ipython3",
   "version": "3.11.7"
  }
 },
 "nbformat": 4,
 "nbformat_minor": 2
}
