{
 "cells": [
  {
   "cell_type": "code",
   "execution_count": 7,
   "metadata": {},
   "outputs": [
    {
     "ename": "AttributeError",
     "evalue": "module 'pandapipes' has no attribute 'create_time_series'",
     "output_type": "error",
     "traceback": [
      "\u001b[1;31m---------------------------------------------------------------------------\u001b[0m",
      "\u001b[1;31mAttributeError\u001b[0m                            Traceback (most recent call last)",
      "Cell \u001b[1;32mIn[7], line 21\u001b[0m\n\u001b[0;32m     19\u001b[0m time_steps \u001b[38;5;241m=\u001b[39m \u001b[38;5;28mrange\u001b[39m(\u001b[38;5;241m0\u001b[39m, \u001b[38;5;241m10\u001b[39m)\n\u001b[0;32m     20\u001b[0m demands \u001b[38;5;241m=\u001b[39m pd\u001b[38;5;241m.\u001b[39mDataFrame(data\u001b[38;5;241m=\u001b[39m{\u001b[38;5;124m\"\u001b[39m\u001b[38;5;124mJunction 2\u001b[39m\u001b[38;5;124m\"\u001b[39m: [\u001b[38;5;241m0.5\u001b[39m, \u001b[38;5;241m0.6\u001b[39m, \u001b[38;5;241m0.7\u001b[39m, \u001b[38;5;241m0.8\u001b[39m, \u001b[38;5;241m0.9\u001b[39m, \u001b[38;5;241m1.0\u001b[39m, \u001b[38;5;241m1.1\u001b[39m, \u001b[38;5;241m1.2\u001b[39m, \u001b[38;5;241m1.3\u001b[39m, \u001b[38;5;241m1.4\u001b[39m]}, index\u001b[38;5;241m=\u001b[39mtime_steps)\n\u001b[1;32m---> 21\u001b[0m \u001b[43mpp\u001b[49m\u001b[38;5;241;43m.\u001b[39;49m\u001b[43mcreate_time_series\u001b[49m(net, demands, name\u001b[38;5;241m=\u001b[39m\u001b[38;5;124m\"\u001b[39m\u001b[38;5;124mdemand\u001b[39m\u001b[38;5;124m\"\u001b[39m)\n\u001b[0;32m     23\u001b[0m \u001b[38;5;66;03m# Run time series simulation\u001b[39;00m\n\u001b[0;32m     24\u001b[0m \u001b[38;5;28;01mfor\u001b[39;00m step \u001b[38;5;129;01min\u001b[39;00m time_steps:\n",
      "\u001b[1;31mAttributeError\u001b[0m: module 'pandapipes' has no attribute 'create_time_series'"
     ]
    }
   ],
   "source": [
    "import pandapipes as pp\n",
    "import pandapower as ppow\n",
    "import pandas as pd\n",
    "\n",
    "# Create a pandapipes network\n",
    "net = pp.create_empty_network(fluid=\"lgas\", name=\"SimpleNetwork\")\n",
    "\n",
    "# Add junctions\n",
    "junction1 = pp.create_junction(net, pn_bar=10, tfluid_k=293.15, name=\"Junction 1\")\n",
    "junction2 = pp.create_junction(net, pn_bar=10, tfluid_k=293.15, name=\"Junction 2\")\n",
    "\n",
    "# Add pipes\n",
    "pipe1 = pp.create_pipe_from_parameters(net, from_junction=junction1, to_junction=junction2, length_km=1, diameter_m=0.05, name=\"Pipe 1\")\n",
    "\n",
    "# Set initial conditions\n",
    "#pipe1.set_initial_pressure(net)\n",
    "\n",
    "# Create time series data\n",
    "time_steps = range(0, 10)\n",
    "demands = pd.DataFrame(data={\"Junction 2\": [0.5, 0.6, 0.7, 0.8, 0.9, 1.0, 1.1, 1.2, 1.3, 1.4]}, index=time_steps)\n",
    "pp.create_time_series(net, demands, name=\"demand\")\n",
    "\n",
    "# Run time series simulation\n",
    "for step in time_steps:\n",
    "    pp.run_time_series.run_timeseries(net, time_steps=[step])\n",
    "\n",
    "# Retrieve results\n",
    "linepack_values = net.res_pipe[\"vdot_m3_per_s\"].sum()\n",
    "print(\"Linepack values:\", linepack_values)\n"
   ]
  }
 ],
 "metadata": {
  "kernelspec": {
   "display_name": "energy",
   "language": "python",
   "name": "python3"
  },
  "language_info": {
   "codemirror_mode": {
    "name": "ipython",
    "version": 3
   },
   "file_extension": ".py",
   "mimetype": "text/x-python",
   "name": "python",
   "nbconvert_exporter": "python",
   "pygments_lexer": "ipython3",
   "version": "3.12.0"
  }
 },
 "nbformat": 4,
 "nbformat_minor": 2
}
